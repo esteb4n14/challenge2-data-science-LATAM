{
  "cells": [
    {
      "cell_type": "code",
      "execution_count": 1,
      "metadata": {},
      "outputs": [
        {
          "name": "stdout",
          "output_type": "stream",
          "text": [
            "Librerías importadas correctamente\n",
            " Pandas versión: 2.2.3\n",
            " NumPy versión: 2.2.0\n"
          ]
        }
      ],
      "source": [
        "# Importación de librerías necesarias\n",
        "import pandas as pd\n",
        "import numpy as np\n",
        "import matplotlib.pyplot as plt\n",
        "import seaborn as sns\n",
        "import json\n",
        "from datetime import datetime\n",
        "import warnings\n",
        "\n",
        "warnings.filterwarnings(\"ignore\")\n",
        "\n",
        "# Configuración de visualización\n",
        "plt.style.use(\"default\")\n",
        "sns.set_palette(\"husl\")\n",
        "plt.rcParams[\"figure.figsize\"] = (12, 8)\n",
        "plt.rcParams[\"font.size\"] = 12\n",
        "\n",
        "print(\"Librerías importadas correctamente\")\n",
        "print(f\" Pandas versión: {pd.__version__}\")\n",
        "print(f\" NumPy versión: {np.__version__}\")"
      ]
    },
    {
      "cell_type": "markdown",
      "metadata": {
        "id": "4foVEKhrlqcH"
      },
      "source": [
        "#📌 Extracción"
      ]
    },
    {
      "cell_type": "code",
      "execution_count": null,
      "metadata": {
        "id": "1--uPM88l7JH"
      },
      "outputs": [
        {
          "name": "stdout",
          "output_type": "stream",
          "text": [
            " Dataset cargado exitosamente\n",
            " Dimensiones: 7,267 filas × 6 columnas\n",
            " Memoria utilizada: 6.70 MB\n",
            "\n",
            " primeras 5 filas del dataset:\n"
          ]
        },
        {
          "data": {
            "text/html": [
              "<div>\n",
              "<style scoped>\n",
              "    .dataframe tbody tr th:only-of-type {\n",
              "        vertical-align: middle;\n",
              "    }\n",
              "\n",
              "    .dataframe tbody tr th {\n",
              "        vertical-align: top;\n",
              "    }\n",
              "\n",
              "    .dataframe thead th {\n",
              "        text-align: right;\n",
              "    }\n",
              "</style>\n",
              "<table border=\"1\" class=\"dataframe\">\n",
              "  <thead>\n",
              "    <tr style=\"text-align: right;\">\n",
              "      <th></th>\n",
              "      <th>customerID</th>\n",
              "      <th>Churn</th>\n",
              "      <th>customer</th>\n",
              "      <th>phone</th>\n",
              "      <th>internet</th>\n",
              "      <th>account</th>\n",
              "    </tr>\n",
              "  </thead>\n",
              "  <tbody>\n",
              "    <tr>\n",
              "      <th>0</th>\n",
              "      <td>0002-ORFBO</td>\n",
              "      <td>No</td>\n",
              "      <td>{'gender': 'Female', 'SeniorCitizen': 0, 'Part...</td>\n",
              "      <td>{'PhoneService': 'Yes', 'MultipleLines': 'No'}</td>\n",
              "      <td>{'InternetService': 'DSL', 'OnlineSecurity': '...</td>\n",
              "      <td>{'Contract': 'One year', 'PaperlessBilling': '...</td>\n",
              "    </tr>\n",
              "    <tr>\n",
              "      <th>1</th>\n",
              "      <td>0003-MKNFE</td>\n",
              "      <td>No</td>\n",
              "      <td>{'gender': 'Male', 'SeniorCitizen': 0, 'Partne...</td>\n",
              "      <td>{'PhoneService': 'Yes', 'MultipleLines': 'Yes'}</td>\n",
              "      <td>{'InternetService': 'DSL', 'OnlineSecurity': '...</td>\n",
              "      <td>{'Contract': 'Month-to-month', 'PaperlessBilli...</td>\n",
              "    </tr>\n",
              "    <tr>\n",
              "      <th>2</th>\n",
              "      <td>0004-TLHLJ</td>\n",
              "      <td>Yes</td>\n",
              "      <td>{'gender': 'Male', 'SeniorCitizen': 0, 'Partne...</td>\n",
              "      <td>{'PhoneService': 'Yes', 'MultipleLines': 'No'}</td>\n",
              "      <td>{'InternetService': 'Fiber optic', 'OnlineSecu...</td>\n",
              "      <td>{'Contract': 'Month-to-month', 'PaperlessBilli...</td>\n",
              "    </tr>\n",
              "    <tr>\n",
              "      <th>3</th>\n",
              "      <td>0011-IGKFF</td>\n",
              "      <td>Yes</td>\n",
              "      <td>{'gender': 'Male', 'SeniorCitizen': 1, 'Partne...</td>\n",
              "      <td>{'PhoneService': 'Yes', 'MultipleLines': 'No'}</td>\n",
              "      <td>{'InternetService': 'Fiber optic', 'OnlineSecu...</td>\n",
              "      <td>{'Contract': 'Month-to-month', 'PaperlessBilli...</td>\n",
              "    </tr>\n",
              "    <tr>\n",
              "      <th>4</th>\n",
              "      <td>0013-EXCHZ</td>\n",
              "      <td>Yes</td>\n",
              "      <td>{'gender': 'Female', 'SeniorCitizen': 1, 'Part...</td>\n",
              "      <td>{'PhoneService': 'Yes', 'MultipleLines': 'No'}</td>\n",
              "      <td>{'InternetService': 'Fiber optic', 'OnlineSecu...</td>\n",
              "      <td>{'Contract': 'Month-to-month', 'PaperlessBilli...</td>\n",
              "    </tr>\n",
              "  </tbody>\n",
              "</table>\n",
              "</div>"
            ],
            "text/plain": [
              "   customerID Churn                                           customer  \\\n",
              "0  0002-ORFBO    No  {'gender': 'Female', 'SeniorCitizen': 0, 'Part...   \n",
              "1  0003-MKNFE    No  {'gender': 'Male', 'SeniorCitizen': 0, 'Partne...   \n",
              "2  0004-TLHLJ   Yes  {'gender': 'Male', 'SeniorCitizen': 0, 'Partne...   \n",
              "3  0011-IGKFF   Yes  {'gender': 'Male', 'SeniorCitizen': 1, 'Partne...   \n",
              "4  0013-EXCHZ   Yes  {'gender': 'Female', 'SeniorCitizen': 1, 'Part...   \n",
              "\n",
              "                                             phone  \\\n",
              "0   {'PhoneService': 'Yes', 'MultipleLines': 'No'}   \n",
              "1  {'PhoneService': 'Yes', 'MultipleLines': 'Yes'}   \n",
              "2   {'PhoneService': 'Yes', 'MultipleLines': 'No'}   \n",
              "3   {'PhoneService': 'Yes', 'MultipleLines': 'No'}   \n",
              "4   {'PhoneService': 'Yes', 'MultipleLines': 'No'}   \n",
              "\n",
              "                                            internet  \\\n",
              "0  {'InternetService': 'DSL', 'OnlineSecurity': '...   \n",
              "1  {'InternetService': 'DSL', 'OnlineSecurity': '...   \n",
              "2  {'InternetService': 'Fiber optic', 'OnlineSecu...   \n",
              "3  {'InternetService': 'Fiber optic', 'OnlineSecu...   \n",
              "4  {'InternetService': 'Fiber optic', 'OnlineSecu...   \n",
              "\n",
              "                                             account  \n",
              "0  {'Contract': 'One year', 'PaperlessBilling': '...  \n",
              "1  {'Contract': 'Month-to-month', 'PaperlessBilli...  \n",
              "2  {'Contract': 'Month-to-month', 'PaperlessBilli...  \n",
              "3  {'Contract': 'Month-to-month', 'PaperlessBilli...  \n",
              "4  {'Contract': 'Month-to-month', 'PaperlessBilli...  "
            ]
          },
          "execution_count": 2,
          "metadata": {},
          "output_type": "execute_result"
        }
      ],
      "source": [
        "# Carga del dataset desde JSON\n",
        "with open(\"TelecomX_Data.json\", \"r\") as f:\n",
        "    data = json.load(f)\n",
        "\n",
        "df_raw = pd.DataFrame(data)\n",
        "\n",
        "print(f\" Dataset cargado exitosamente\")\n",
        "print(f\" Dimensiones: {df_raw.shape[0]:,} filas × {df_raw.shape[1]} columnas\")\n",
        "print(f\" Memoria utilizada: {df_raw.memory_usage(deep=True).sum() / 1024**2:.2f} MB\")\n",
        "\n",
        "print(\"\\n primeras 5 filas del dataset:\")\n",
        "df_raw.head()"
      ]
    },
    {
      "cell_type": "code",
      "execution_count": 3,
      "metadata": {},
      "outputs": [
        {
          "name": "stdout",
          "output_type": "stream",
          "text": [
            "Información general del dataset:\n",
            "<class 'pandas.core.frame.DataFrame'>\n",
            "RangeIndex: 7267 entries, 0 to 7266\n",
            "Data columns (total 6 columns):\n",
            " #   Column      Non-Null Count  Dtype \n",
            "---  ------      --------------  ----- \n",
            " 0   customerID  7267 non-null   object\n",
            " 1   Churn       7267 non-null   object\n",
            " 2   customer    7267 non-null   object\n",
            " 3   phone       7267 non-null   object\n",
            " 4   internet    7267 non-null   object\n",
            " 5   account     7267 non-null   object\n",
            "dtypes: object(6)\n",
            "memory usage: 340.8+ KB\n",
            "None\n",
            "\n",
            "============================================================\n",
            "\n",
            " estructura de datos anidados:\n",
            "\n",
            " columna customer (información demográfica):\n",
            "{\n",
            "  \"gender\": \"Female\",\n",
            "  \"SeniorCitizen\": 0,\n",
            "  \"Partner\": \"Yes\",\n",
            "  \"Dependents\": \"Yes\",\n",
            "  \"tenure\": 9\n",
            "}\n",
            "\n",
            " columna phone (servicios telefónicos):\n",
            "{\n",
            "  \"PhoneService\": \"Yes\",\n",
            "  \"MultipleLines\": \"No\"\n",
            "}\n",
            "\n",
            " columna internet (servicios de internet):\n",
            "{\n",
            "  \"InternetService\": \"DSL\",\n",
            "  \"OnlineSecurity\": \"No\",\n",
            "  \"OnlineBackup\": \"Yes\",\n",
            "  \"DeviceProtection\": \"No\",\n",
            "  \"TechSupport\": \"Yes\",\n",
            "  \"StreamingTV\": \"Yes\",\n",
            "  \"StreamingMovies\": \"No\"\n",
            "}\n",
            "\n",
            " columna account (información de cuenta):\n",
            "{\n",
            "  \"Contract\": \"One year\",\n",
            "  \"PaperlessBilling\": \"Yes\",\n",
            "  \"PaymentMethod\": \"Mailed check\",\n",
            "  \"Charges\": {\n",
            "    \"Monthly\": 65.6,\n",
            "    \"Total\": \"593.3\"\n",
            "  }\n",
            "}\n"
          ]
        }
      ],
      "source": [
        "# Información general del dataset\n",
        "print(\"Información general del dataset:\")\n",
        "print(df_raw.info())\n",
        "print(\"\\n\" + \"=\" * 60)\n",
        "\n",
        "# Examinar estructura de columnas anidadas\n",
        "print(\"\\n estructura de datos anidados:\")\n",
        "print(\"\\n columna customer (información demográfica):\")\n",
        "print(json.dumps(df_raw[\"customer\"].iloc[0], indent=2))\n",
        "\n",
        "print(\"\\n columna phone (servicios telefónicos):\")\n",
        "print(json.dumps(df_raw[\"phone\"].iloc[0], indent=2))\n",
        "\n",
        "print(\"\\n columna internet (servicios de internet):\")\n",
        "print(json.dumps(df_raw[\"internet\"].iloc[0], indent=2))\n",
        "\n",
        "print(\"\\n columna account (información de cuenta):\")\n",
        "print(json.dumps(df_raw[\"account\"].iloc[0], indent=2))"
      ]
    },
    {
      "cell_type": "markdown",
      "metadata": {
        "id": "1lSZP8zmmGZu"
      },
      "source": [
        "#🔧 Transformación"
      ]
    },
    {
      "cell_type": "code",
      "execution_count": 4,
      "metadata": {
        "id": "bsm-WTLjmHvt"
      },
      "outputs": [
        {
          "name": "stdout",
          "output_type": "stream",
          "text": [
            " Datos transformados exitosamente\n",
            " Nuevas dimensiones: 7,267 filas × 21 columnas\n",
            "\n",
            " Columnas del dataset transformado:\n",
            " 1. customerID\n",
            " 2. Churn\n",
            " 3. customer_gender\n",
            " 4. customer_SeniorCitizen\n",
            " 5. customer_Partner\n",
            " 6. customer_Dependents\n",
            " 7. customer_tenure\n",
            " 8. phone_PhoneService\n",
            " 9. phone_MultipleLines\n",
            "10. internet_InternetService\n",
            "11. internet_OnlineSecurity\n",
            "12. internet_OnlineBackup\n",
            "13. internet_DeviceProtection\n",
            "14. internet_TechSupport\n",
            "15. internet_StreamingTV\n",
            "16. internet_StreamingMovies\n",
            "17. account_Contract\n",
            "18. account_PaperlessBilling\n",
            "19. account_PaymentMethod\n",
            "20. account_Charges.Monthly\n",
            "21. account_Charges.Total\n"
          ]
        }
      ],
      "source": [
        "# Función para expandir columnas anidadas\n",
        "def expand_nested_column(df, column_name):\n",
        "    \"\"\"Expande una columna con datos anidados en múltiples columnas\"\"\"\n",
        "    expanded = pd.json_normalize(df[column_name])\n",
        "    expanded.columns = [f\"{column_name}_{col}\" for col in expanded.columns]\n",
        "    return expanded\n",
        "\n",
        "\n",
        "# Expandir todas las columnas anidadas\n",
        "customer_expanded = expand_nested_column(df_raw, \"customer\")\n",
        "phone_expanded = expand_nested_column(df_raw, \"phone\")\n",
        "internet_expanded = expand_nested_column(df_raw, \"internet\")\n",
        "account_expanded = expand_nested_column(df_raw, \"account\")\n",
        "\n",
        "# Crear dataset final combinando todas las columnas\n",
        "df = pd.concat(\n",
        "    [\n",
        "        df_raw[[\"customerID\", \"Churn\"]],\n",
        "        customer_expanded,\n",
        "        phone_expanded,\n",
        "        internet_expanded,\n",
        "        account_expanded,\n",
        "    ],\n",
        "    axis=1,\n",
        ")\n",
        "\n",
        "print(f\" Datos transformados exitosamente\")\n",
        "print(f\" Nuevas dimensiones: {df.shape[0]:,} filas × {df.shape[1]} columnas\")\n",
        "print(f\"\\n Columnas del dataset transformado:\")\n",
        "for i, col in enumerate(df.columns, 1):\n",
        "    print(f\"{i:2d}. {col}\")"
      ]
    },
    {
      "cell_type": "code",
      "execution_count": 6,
      "metadata": {},
      "outputs": [
        {
          "name": "stdout",
          "output_type": "stream",
          "text": [
            "Distribución de la variable objetivo (churn):\n",
            "Churn\n",
            "No     5174\n",
            "Yes    1869\n",
            "        224\n",
            "Name: count, dtype: int64\n",
            "\n",
            " Porcentaje de distribución:\n",
            "Churn\n",
            "No     71.20\n",
            "Yes    25.72\n",
            "        3.08\n",
            "Name: proportion, dtype: float64\n",
            "\n",
            " Valores faltantes en Churn antes de limpieza: 0\n",
            " Valores vacíos (\"\") en Churn: 224\n",
            "\n",
            " Dataset limpio: 7,043 filas × 21 columnas\n",
            " Filas eliminadas: 224\n"
          ]
        }
      ],
      "source": [
        "# Limpieza inicial\n",
        "print(\"Distribución de la variable objetivo (churn):\")\n",
        "churn_counts = df[\"Churn\"].value_counts()\n",
        "print(churn_counts)\n",
        "print(f\"\\n Porcentaje de distribución:\")\n",
        "churn_pct = df[\"Churn\"].value_counts(normalize=True) * 100\n",
        "print(churn_pct.round(2))\n",
        "\n",
        "print(f'\\n Valores faltantes en Churn antes de limpieza: {df[\"Churn\"].isna().sum()}')\n",
        "print(f' Valores vacíos (\"\") en Churn: {(df[\"Churn\"] == \"\").sum()}')\n",
        "\n",
        "df_clean = df[df[\"Churn\"].isin([\"Yes\", \"No\"])].copy()\n",
        "print(f\"\\n Dataset limpio: {df_clean.shape[0]:,} filas × {df_clean.shape[1]} columnas\")\n",
        "print(f\" Filas eliminadas: {df.shape[0] - df_clean.shape[0]:,}\")"
      ]
    },
    {
      "cell_type": "code",
      "execution_count": 7,
      "metadata": {},
      "outputs": [
        {
          "name": "stdout",
          "output_type": "stream",
          "text": [
            "Convirtiendo tipos de datos...\n",
            "\n",
            " Columnas Yes/No identificadas: 11\n",
            " - customer_Partner: ['Yes' 'No']\n",
            " - customer_Dependents: ['Yes' 'No']\n",
            " - phone_PhoneService: ['Yes' 'No']\n",
            " - phone_MultipleLines: ['No' 'Yes' 'No phone service']\n",
            " - internet_OnlineSecurity: ['No' 'Yes' 'No internet service']\n",
            " - internet_OnlineBackup: ['Yes' 'No' 'No internet service']\n",
            " - internet_DeviceProtection: ['No' 'Yes' 'No internet service']\n",
            " - internet_TechSupport: ['Yes' 'No' 'No internet service']\n",
            " - internet_StreamingTV: ['Yes' 'No' 'No internet service']\n",
            " - internet_StreamingMovies: ['No' 'Yes' 'No internet service']\n",
            " - account_PaperlessBilling: ['Yes' 'No']\n",
            "\n",
            " conversión de tipos completada\n",
            "\n",
            " información del dataset limpio:\n",
            "<class 'pandas.core.frame.DataFrame'>\n",
            "Index: 7043 entries, 0 to 7266\n",
            "Data columns (total 21 columns):\n",
            " #   Column                     Non-Null Count  Dtype   \n",
            "---  ------                     --------------  -----   \n",
            " 0   customerID                 7043 non-null   object  \n",
            " 1   Churn                      7043 non-null   int64   \n",
            " 2   customer_gender            7043 non-null   object  \n",
            " 3   customer_SeniorCitizen     7043 non-null   category\n",
            " 4   customer_Partner           7043 non-null   int64   \n",
            " 5   customer_Dependents        7043 non-null   int64   \n",
            " 6   customer_tenure            7043 non-null   int64   \n",
            " 7   phone_PhoneService         7043 non-null   int64   \n",
            " 8   phone_MultipleLines        7043 non-null   int64   \n",
            " 9   internet_InternetService   7043 non-null   object  \n",
            " 10  internet_OnlineSecurity    7043 non-null   int64   \n",
            " 11  internet_OnlineBackup      7043 non-null   int64   \n",
            " 12  internet_DeviceProtection  7043 non-null   int64   \n",
            " 13  internet_TechSupport       7043 non-null   int64   \n",
            " 14  internet_StreamingTV       7043 non-null   int64   \n",
            " 15  internet_StreamingMovies   7043 non-null   int64   \n",
            " 16  account_Contract           7043 non-null   object  \n",
            " 17  account_PaperlessBilling   7043 non-null   int64   \n",
            " 18  account_PaymentMethod      7043 non-null   object  \n",
            " 19  account_Charges.Monthly    7043 non-null   float64 \n",
            " 20  account_Charges.Total      7032 non-null   float64 \n",
            "dtypes: category(1), float64(2), int64(13), object(5)\n",
            "memory usage: 1.1+ MB\n",
            "None\n"
          ]
        }
      ],
      "source": [
        "# Converción de tipos de datos\n",
        "print('Convirtiendo tipos de datos...')\n",
        "\n",
        "df_clean['Churn'] = df_clean['Churn'].map({'Yes': 1, 'No': 0})\n",
        "\n",
        "df_clean['customer_SeniorCitizen'] = df_clean['customer_SeniorCitizen'].astype('category')\n",
        "\n",
        "yes_no_columns = [col for col in df_clean.columns if df_clean[col].dtype == 'object' and\n",
        "                  set(df_clean[col].unique()).issubset({'Yes', 'No', 'No internet service', 'No phone service'})]\n",
        "\n",
        "print(f'\\n Columnas Yes/No identificadas: {len(yes_no_columns)}')\n",
        "for col in yes_no_columns:\n",
        "    print(f' - {col}: {df_clean[col].unique()}')\n",
        "\n",
        "for col in yes_no_columns:\n",
        "    df_clean[col] = df_clean[col].map({\n",
        "        'Yes': 1,\n",
        "        'No': 0,\n",
        "        'No internet service': 0,\n",
        "        'No phone service': 0\n",
        "    })\n",
        "\n",
        "if 'account_Charges.Total' in df_clean.columns:\n",
        "    df_clean['account_Charges.Total'] = pd.to_numeric(df_clean['account_Charges.Total'], errors='coerce')\n",
        "\n",
        "print('\\n conversión de tipos completada')\n",
        "print('\\n información del dataset limpio:')\n",
        "print(df_clean.info())\n"
      ]
    },
    {
      "cell_type": "markdown",
      "metadata": {
        "id": "6XnTC2NTmMRL"
      },
      "source": [
        "#📊 Carga y análisis"
      ]
    },
    {
      "cell_type": "code",
      "execution_count": null,
      "metadata": {
        "id": "1jgUnLqTmPdd"
      },
      "outputs": [],
      "source": []
    },
    {
      "cell_type": "markdown",
      "metadata": {
        "id": "v-WzfSvTmaw9"
      },
      "source": [
        "#📄Informe final"
      ]
    },
    {
      "cell_type": "code",
      "execution_count": null,
      "metadata": {
        "id": "XMTac0YJmeK9"
      },
      "outputs": [],
      "source": []
    }
  ],
  "metadata": {
    "colab": {
      "provenance": []
    },
    "kernelspec": {
      "display_name": "Python 3",
      "name": "python3"
    },
    "language_info": {
      "codemirror_mode": {
        "name": "ipython",
        "version": 3
      },
      "file_extension": ".py",
      "mimetype": "text/x-python",
      "name": "python",
      "nbconvert_exporter": "python",
      "pygments_lexer": "ipython3",
      "version": "3.12.7"
    }
  },
  "nbformat": 4,
  "nbformat_minor": 0
}
